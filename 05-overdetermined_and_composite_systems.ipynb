{
 "cells": [
  {
   "cell_type": "markdown",
   "metadata": {},
   "source": [
    "# Overdetermined systems\n",
    "\n",
    "A system of polynomial equations $f=(f_1(x_1,\\ldots, x_m),\\ldots,  f_n(x_1,\\ldots,x_m))$ is called *overdetermined*, if it has more equations than variables; i.e., when $n>m$. HomotopyContinuation.jl can solve overdetermined systems. Here is a simple example.\n",
    "\n",
    "$$f(x,y,z) = \\begin{bmatrix} xz-y^2 \\\\\\ y-z^2 \\\\\\ x-yz \\\\\\ x + y + z + 1\\end{bmatrix}.$$\n",
    "\n",
    "This system has 4 equation in 3 variables. One might expect that it has no solution, but actually it has solutions, as is explained [here](https://en.wikipedia.org/wiki/Rational_normal_curve).\n",
    "\n",
    "The Julia code is as follows"
   ]
  },
  {
   "cell_type": "code",
   "execution_count": null,
   "metadata": {},
   "outputs": [],
   "source": [
    "using HomotopyContinuation\n",
    "@polyvar x y z\n",
    "f = [\n",
    "    x*z - y^2, \n",
    "    y - z^2, \n",
    "    x - y*z, \n",
    "    x + y + z + 1\n",
    "]\n",
    "\n",
    "solve(f)"
   ]
  },
  {
   "cell_type": "markdown",
   "metadata": {},
   "source": [
    "Internally, HomotopyContinuation multiplies $f$ with a random $3\\times 4$ matrix $A$ and then solves the quadratic system $Af$. For a generic $A$ the isolated zeros of $f$ are isolated zeros of $Af$. We can do this by hand:"
   ]
  },
  {
   "cell_type": "code",
   "execution_count": null,
   "metadata": {},
   "outputs": [],
   "source": [
    "A = randn(ComplexF64, 3, 4)\n",
    "S = solve(A*f)"
   ]
  },
  {
   "cell_type": "markdown",
   "metadata": {},
   "source": [
    "and sort out the zeros of $f$ by hand by first evaluation $f$ at the entries of `S`"
   ]
  },
  {
   "cell_type": "code",
   "execution_count": null,
   "metadata": {},
   "outputs": [],
   "source": [
    "f_values = map(s -> [fi([x, y, z] => s) for fi in f], solutions(S))"
   ]
  },
  {
   "cell_type": "markdown",
   "metadata": {},
   "source": [
    "and then sorting out the zero entries"
   ]
  },
  {
   "cell_type": "code",
   "execution_count": null,
   "metadata": {},
   "outputs": [],
   "source": [
    "zero_entries = findall(v -> maximum(abs.(v)) < 1e-10, f_values)\n",
    "println(\"\\n and the zeros are at $zero_entries\")"
   ]
  },
  {
   "cell_type": "markdown",
   "metadata": {},
   "source": [
    "However, evaluation of $f$ at the solutions of $Af$ is not a stable way of finding the zeros of $f$. This is ultimately because $f$ and $tf$ have the same zeros for all $t\\in\\mathbb{C}\\backslash\\{0\\}$. HomotopyContinuation.jl checks which zeros of $Af$ converge quadratically fast towards zeros of $f$ in order to make a decision."
   ]
  },
  {
   "cell_type": "markdown",
   "metadata": {},
   "source": [
    "# Composite systems\n",
    "\n",
    "If your polynomial system $f$ is given as the composition of systems it is more efficient to *not* expand $f$, but exploit this structure! \n",
    "\n",
    "For instance, if\n",
    "\n",
    "$$ f = \\begin{bmatrix} ab - 2\\\\  ac- 1\\end{bmatrix}, \\quad\\text{and}\\quad g =  \\begin{bmatrix}x + y\\\\ y + 3\\\\ x + 2\\end{bmatrix},$$\n",
    "\n",
    "then you solve $f\\circ g$ by"
   ]
  },
  {
   "cell_type": "code",
   "execution_count": null,
   "metadata": {},
   "outputs": [],
   "source": [
    "using HomotopyContinuation\n",
    "@polyvar a b c x y\n",
    "f = [a * b - 2, a * c- 1]\n",
    "g = [x + y, y + 3, x + 2]\n",
    "\n",
    "solve(f ∘ g)"
   ]
  },
  {
   "cell_type": "markdown",
   "metadata": {},
   "source": [
    "It is also possible to iterate the above process:"
   ]
  },
  {
   "cell_type": "code",
   "execution_count": null,
   "metadata": {},
   "outputs": [],
   "source": [
    "@polyvar u v\n",
    "h = [u^2 - 1, u + v - 2]\n",
    "solve(f ∘ g ∘ h)"
   ]
  }
 ],
 "metadata": {
  "kernelspec": {
   "display_name": "Julia 1.1.0",
   "language": "julia",
   "name": "julia-1.1"
  },
  "language_info": {
   "file_extension": ".jl",
   "mimetype": "application/julia",
   "name": "julia",
   "version": "1.1.0"
  }
 },
 "nbformat": 4,
 "nbformat_minor": 2
}
