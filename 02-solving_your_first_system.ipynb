{
 "cells": [
  {
   "cell_type": "markdown",
   "metadata": {},
   "source": [
    "# Solve your first system of equations\n",
    "Consider the following simple system of two polynomials in two variables.\n",
    "\n",
    "\n",
    "$$\n",
    "f=\\begin{bmatrix}x^2+2y \\\\\\\\ y^2-2 \\end{bmatrix}\n",
    "$$\n",
    "\n",
    "\n",
    "Solving the equation $f=0$ can be accomplished as follows"
   ]
  },
  {
   "cell_type": "code",
   "execution_count": 3,
   "metadata": {},
   "outputs": [
    {
     "data": {
      "text/plain": [
       "Result with 4 solutions\n",
       "==================================\n",
       "• 4 non-singular solutions (2 real)\n",
       "• 0 singular solutions (0 real)\n",
       "• 4 paths tracked\n",
       "• random seed: 597204\n"
      ]
     },
     "execution_count": 3,
     "metadata": {},
     "output_type": "execute_result"
    }
   ],
   "source": [
    "using HomotopyContinuation # load the package into the current Julia session\n",
    "@polyvar x y; # declare the variables x and y\n",
    "f = [x^2 + 2y, y^2 - 2]\n",
    "result = solve(f) # solve f"
   ]
  },
  {
   "cell_type": "markdown",
   "metadata": {},
   "source": [
    "The solutions of $f=0$ (without any additional information) are returned by"
   ]
  },
  {
   "cell_type": "code",
   "execution_count": 6,
   "metadata": {},
   "outputs": [
    {
     "data": {
      "text/plain": [
       "4-element Array{Array{Complex{Float64},1},1}:\n",
       " [1.82963e-33+1.68179im, 1.41421-6.74075e-34im]  \n",
       " [-1.82963e-33-1.68179im, 1.41421-6.74075e-34im] \n",
       " [1.68179+2.93874e-39im, -1.41421-1.46937e-39im] \n",
       " [-1.68179-2.93874e-39im, -1.41421-1.46937e-39im]"
      ]
     },
     "execution_count": 6,
     "metadata": {},
     "output_type": "execute_result"
    }
   ],
   "source": [
    "solutions(result)"
   ]
  },
  {
   "cell_type": "markdown",
   "metadata": {},
   "source": [
    "The real zeros of $f$ are returned by"
   ]
  },
  {
   "cell_type": "code",
   "execution_count": 8,
   "metadata": {},
   "outputs": [
    {
     "data": {
      "text/plain": [
       "2-element Array{Array{Float64,1},1}:\n",
       " [1.68179, -1.41421] \n",
       " [-1.68179, -1.41421]"
      ]
     },
     "execution_count": 8,
     "metadata": {},
     "output_type": "execute_result"
    }
   ],
   "source": [
    "real_solutions(result)"
   ]
  },
  {
   "cell_type": "markdown",
   "metadata": {},
   "source": [
    "## The `Result` of a computation\n",
    "\n",
    "Above, the command `result = solve(f)` produced a `Result`. This is a particular data structure that contains all information about the computation. \n",
    "\n",
    "A `Result` contains an array whose entries are `PathResults`, which is another structure that contains information about a single path tracking. Let us inspect the first one."
   ]
  },
  {
   "cell_type": "code",
   "execution_count": 5,
   "metadata": {},
   "outputs": [
    {
     "data": {
      "text/plain": [
       "PathResult\n",
       "=================\n",
       " • return_code: success\n",
       " • t: 0.0\n",
       " • solution: Complex{Float64}[1.82963e-33+1.68179im, 1.41421-6.74075e-34im]\n",
       " • accuracy: 1.375e-16\n",
       " • residual: 1.326e-16\n",
       " • condition_jacobian: 1.354e+00\n",
       " • path_number: 1\n"
      ]
     },
     "execution_count": 5,
     "metadata": {},
     "output_type": "execute_result"
    }
   ],
   "source": [
    "result[1]"
   ]
  },
  {
   "cell_type": "markdown",
   "metadata": {},
   "source": [
    "The information that we see is this:\n",
    "\n",
    "* `return_code`: One of `:success`, `:at_infinity` or any error code in [`PathTrackerStatus.states`](@ref) converted to a `Symbol`.\n",
    "* `solution`: The solution vector.\n",
    "* `t::Float64`: The value of `t` at which `solution` was computed. Note that if `return_code` is `:at_infinity`, then `t` is the value when this was decided.\n",
    "* `accuracy::Union{Nothing, Float64}`: An approximation of ``||x-x^*||₂`` where ``x`` is the computed solution and ``x^*`` is the true solution.\n",
    "* `residual::Union{Nothing, Float64}`: The value of the 2-norm of `H(solution, 0)`.\n",
    "* `condition_jacobian::Union{Nothing, Float64}`: This is the condition number of the row-equilibrated Jacobian at the solution. A high condition number indicates a singularity."
   ]
  },
  {
   "cell_type": "markdown",
   "metadata": {},
   "source": [
    "## Singular solutions\n",
    "\n",
    "Consider now the system\n",
    "\n",
    "\n",
    "$$\n",
    "g=\\begin{bmatrix}(x+2y)^2 \\\\\\\\ y^2-2 \\end{bmatrix}\n",
    "$$\n",
    "\n",
    "Agina, let's solve it."
   ]
  },
  {
   "cell_type": "code",
   "execution_count": 9,
   "metadata": {
    "scrolled": true
   },
   "outputs": [
    {
     "data": {
      "text/plain": [
       "Result with 2 solutions\n",
       "==================================\n",
       "• 0 non-singular solutions (0 real)\n",
       "• 2 singular solutions (2 real)\n",
       "• 4 paths tracked\n",
       "• random seed: 798184\n",
       "• multiplicity table of singular solutions:\n",
       "\u001b[2m┌\u001b[0m\u001b[2m───────\u001b[0m\u001b[2m┬\u001b[0m\u001b[2m───────\u001b[0m\u001b[2m┬\u001b[0m\u001b[2m────────\u001b[0m\u001b[2m┬\u001b[0m\u001b[2m────────────\u001b[0m\u001b[2m┐\u001b[0m\n",
       "\u001b[2m│\u001b[0m\u001b[22m mult. \u001b[0m\u001b[2m│\u001b[0m\u001b[22m total \u001b[0m\u001b[2m│\u001b[0m\u001b[22m # real \u001b[0m\u001b[2m│\u001b[0m\u001b[22m # non-real \u001b[0m\u001b[2m│\u001b[0m\n",
       "\u001b[2m├\u001b[0m\u001b[2m───────\u001b[0m\u001b[2m┼\u001b[0m\u001b[2m───────\u001b[0m\u001b[2m┼\u001b[0m\u001b[2m────────\u001b[0m\u001b[2m┼\u001b[0m\u001b[2m────────────\u001b[0m\u001b[2m┤\u001b[0m\n",
       "\u001b[2m│\u001b[0m   2   \u001b[0m\u001b[2m│\u001b[0m   2   \u001b[0m\u001b[2m│\u001b[0m   2    \u001b[0m\u001b[2m│\u001b[0m     0      \u001b[0m\u001b[2m│\u001b[0m\n",
       "\u001b[2m└\u001b[0m\u001b[2m───────\u001b[0m\u001b[2m┴\u001b[0m\u001b[2m───────\u001b[0m\u001b[2m┴\u001b[0m\u001b[2m────────\u001b[0m\u001b[2m┴\u001b[0m\u001b[2m────────────\u001b[0m\u001b[2m┘\u001b[0m\n"
      ]
     },
     "execution_count": 9,
     "metadata": {},
     "output_type": "execute_result"
    }
   ],
   "source": [
    "g = [(x + 2y)^2, y^2 - 2]\n",
    "result2 = solve(g)"
   ]
  },
  {
   "cell_type": "markdown",
   "metadata": {},
   "source": [
    "Now, we see al slightly different output. Since there are singular solutions, we also have a table which summarizes their multiplity structure\n",
    "\n",
    "Let us inspect the first element of `result2`."
   ]
  },
  {
   "cell_type": "code",
   "execution_count": 10,
   "metadata": {},
   "outputs": [
    {
     "data": {
      "text/plain": [
       "PathResult\n",
       "=================\n",
       " • return_code: success\n",
       " • t: 0.0\n",
       " • solution: Complex{Float64}[-2.82843-9.09334e-13im, 1.41421-2.69265e-28im]\n",
       " • residual: 3.349e-16\n",
       " • winding_number: 2\n",
       " • condition_jacobian: 9.539e+11\n",
       " • path_number: 1\n"
      ]
     },
     "execution_count": 10,
     "metadata": {},
     "output_type": "execute_result"
    }
   ],
   "source": [
    "result2[1]"
   ]
  }
 ],
 "metadata": {
  "kernelspec": {
   "display_name": "Julia 1.1.0",
   "language": "julia",
   "name": "julia-1.1"
  },
  "language_info": {
   "file_extension": ".jl",
   "mimetype": "application/julia",
   "name": "julia",
   "version": "1.1.0"
  }
 },
 "nbformat": 4,
 "nbformat_minor": 2
}
