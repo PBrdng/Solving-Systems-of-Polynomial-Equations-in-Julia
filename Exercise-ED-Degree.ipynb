{
 "cells": [
  {
   "cell_type": "markdown",
   "metadata": {},
   "source": [
    "# Euclidean Distance Degree"
   ]
  },
  {
   "cell_type": "markdown",
   "metadata": {},
   "source": [
    "A real algebraic variety is the common zero set of polynomials $f_1, \\ldots, f_m \\in \\mathbb{R}[x_1,\\ldots,x_n]$ denoted by $V(f_1,\\ldots,f_m)$.\n",
    "\n",
    "Consider the distance from a point $u \\in \\mathbb{R}^n$ to the variety $X=V(f_1,\\ldots,f_m)$. What is the nearest point on $X$ to $u$ with respect to the euclidean distance? How many critical points are there? If we count the number of critical points over the complex numbers then this number will almost always be the same. It is called the *Euclidean distance degree* of $X$. "
   ]
  },
  {
   "cell_type": "markdown",
   "metadata": {},
   "source": [
    "<figure>\n",
    "<img src=\"images/ed.png\" alt=\"ED\" style=\"width: 500px;\"/>\n",
    "<figcaption style=\"color:DIMGRAY\">The real critical points of the euclidean distance function for the point $u= [-0.32, -0.1]$\n",
    "    and $X=V((x^4 + y^4 - 1)(x^2 + y^2 - 2) + x^5y)$</figcaption>\n",
    "</figure>"
   ]
  },
  {
   "cell_type": "markdown",
   "metadata": {},
   "source": [
    " In the following we want so show **you** can solve this problem on your own using techniques from numerical algebraic geometry."
   ]
  },
  {
   "cell_type": "markdown",
   "metadata": {},
   "source": [
    "For a given $u \\in \\mathbb{R}^n$ and $X=V(f_1,\\ldots, f_m)$ we want to solve the problem:\n",
    "\n",
    "$$\\min =||x-u||_2=:d_u(x) \\quad \\text{subject to} \\quad x \\in X$$"
   ]
  },
  {
   "cell_type": "markdown",
   "metadata": {},
   "source": [
    "Considering the geometry of the problem  you can see that a point $x^*$ is a critical point of $d_u$ if and only if\n",
    "$x^* - u$ is orthogonal to the tangent space of $X$ at $x^*$, or formally\n",
    "        \\begin{equation}(x^* - u) \\perp T_{(x^*)}X \\,.\\end{equation}"
   ]
  },
  {
   "cell_type": "markdown",
   "metadata": {},
   "source": [
    "### Exercise\n",
    "\n",
    "The real critical points of the euclidean distance function for the point $u= [-0.32, -0.1]$\n",
    "    and $X=V(f)$ with $f=(x^4 + y^4 - 1)(x^2 + y^2 - 2) + x^5y)$"
   ]
  },
  {
   "cell_type": "markdown",
   "metadata": {},
   "source": [
    "**1)**: Write down definining equations for our problem.\n",
    "\n",
    "**2)**: What is the ED degree of $X$?\n",
    "\n",
    "**3)**: What are the coordinates of the point closest to $u$ on $X$?\n",
    "\n",
    "**4)**: Visualize all real critical points for your favorite plane curve"
   ]
  }
 ],
 "metadata": {
  "@webio": {
   "lastCommId": null,
   "lastKernelId": null
  },
  "kernelspec": {
   "display_name": "Julia 1.1.1",
   "language": "julia",
   "name": "julia-1.1"
  },
  "language_info": {
   "file_extension": ".jl",
   "mimetype": "application/julia",
   "name": "julia",
   "version": "1.1.1"
  }
 },
 "nbformat": 4,
 "nbformat_minor": 2
}
