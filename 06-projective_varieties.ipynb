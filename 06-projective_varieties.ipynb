{
 "cells": [
  {
   "cell_type": "markdown",
   "metadata": {},
   "source": [
    "# Solution sets in $\\mathbb{P}^n$"
   ]
  },
  {
   "cell_type": "markdown",
   "metadata": {},
   "source": [
    "In the previous examples we have always computed solutions $\\mathbb{C}^n$, also called affine space.\n",
    "\n",
    "On the other hand, for some polynomial systems it is more natural to consider their zero sets in [projective space](https://en.wikipedia.org/wiki/Projective_space) $\\mathbb{P}^n$. For instance, think of the parabola $y-x^2=0$. A line $ax+by=c$ is tangent to the parabola at $(x,y)\\in\\mathbb{C^2}$, if and only if \n",
    "\n",
    "$$ax+by=c \\quad \\text{ and } \\quad\\det\\begin{bmatrix} a & b \\\\ -2x & 1\\end{bmatrix}=0.$$\n",
    "\n",
    "Ususally, there is one point of intersection, but if $b=0$, then the last condition says that $a=0$. Consequently, if $b=0$ and $a\\neq 0$ then this system has no solution. Geometrically this means that the line and the parabola intersect  tagentially *asymptotically* at a point at infinity. \n",
    "\n",
    "Nevertheless, the same problem in $\\mathbb{P}^2$ **always** has a solution!\n",
    "\n",
    "Let us see this in action. We compute the solutions to the same equations, but homogenized."
   ]
  },
  {
   "cell_type": "code",
   "execution_count": 3,
   "metadata": {},
   "outputs": [
    {
     "data": {
      "text/plain": [
       "2-element Array{DynamicPolynomials.Polynomial{true,Int64},1}:\n",
       " xa + yb + cz\n",
       " 2xb + az    "
      ]
     },
     "execution_count": 3,
     "metadata": {},
     "output_type": "execute_result"
    }
   ],
   "source": [
    "using HomotopyContinuation, LinearAlgebra\n",
    "@polyvar x y\n",
    "@polyvar a b c\n",
    "f1 = a * x + b * y + c\n",
    "f2 = det([a b; -2x 1])\n",
    "F = [f1; f2]\n",
    "\n",
    "@polyvar z # homogenizing variable\n",
    "F_hom = homogenize(F, z)"
   ]
  },
  {
   "cell_type": "markdown",
   "metadata": {},
   "source": [
    "Now, let us specify $a=1,\\, b=0, \\, c=i$ and solve the system "
   ]
  },
  {
   "cell_type": "code",
   "execution_count": 5,
   "metadata": {},
   "outputs": [
    {
     "data": {
      "text/plain": [
       "Result with 1 solutions\n",
       "==================================\n",
       "• 1 non-singular solution (0 real)\n",
       "• 0 singular solutions (0 real)\n",
       "• 1 paths tracked\n",
       "• random seed: 572927\n"
      ]
     },
     "execution_count": 5,
     "metadata": {},
     "output_type": "execute_result"
    }
   ],
   "source": [
    "f = [subs(f, a => 1, b => 0, c => im) for f in F_hom]\n",
    "R = solve(f)"
   ]
  },
  {
   "cell_type": "markdown",
   "metadata": {},
   "source": [
    "The entries of `R` aren't affine solutions, but projective solutions. Projective solutions have their own data structure `PVector`:"
   ]
  },
  {
   "cell_type": "code",
   "execution_count": 6,
   "metadata": {},
   "outputs": [
    {
     "data": {
      "text/plain": [
       "1-element Array{ProjectiveVectors.PVector{Complex{Float64},1},1}:\n",
       " PVector{Complex{Float64}, 1}:\n",
       " [-4.6104699563715905e-33 - 6.474078116282192e-33im, 0.996673132913456 - 0.08150255289545548im, 3.2370390581410415e-33 - 2.30523497818562e-33im]"
      ]
     },
     "execution_count": 6,
     "metadata": {},
     "output_type": "execute_result"
    }
   ],
   "source": [
    "solutions(R)"
   ]
  },
  {
   "cell_type": "markdown",
   "metadata": {},
   "source": [
    "We can check if a solution is projective as follows."
   ]
  },
  {
   "cell_type": "code",
   "execution_count": 7,
   "metadata": {},
   "outputs": [
    {
     "data": {
      "text/plain": [
       "true"
      ]
     },
     "execution_count": 7,
     "metadata": {},
     "output_type": "execute_result"
    }
   ],
   "source": [
    "is_projective(R[1])"
   ]
  },
  {
   "cell_type": "markdown",
   "metadata": {},
   "source": [
    "## Computing solutions in an affine patch.\n",
    "\n",
    "Now, let us turn the problem around. Suppose we are given the homogeneous system `F`, but we want to get its affine solution where `y` is set to 1. This can be done as follows:"
   ]
  },
  {
   "cell_type": "code",
   "execution_count": 12,
   "metadata": {},
   "outputs": [
    {
     "data": {
      "text/plain": [
       "Result with 1 solutions\n",
       "==================================\n",
       "• 1 non-singular solution (1 real)\n",
       "• 0 singular solutions (0 real)\n",
       "• 1 paths tracked\n",
       "• random seed: 277111\n"
      ]
     },
     "execution_count": 12,
     "metadata": {},
     "output_type": "execute_result"
    }
   ],
   "source": [
    "solve(f, homvar = y)"
   ]
  }
 ],
 "metadata": {
  "kernelspec": {
   "display_name": "Julia 1.1.0",
   "language": "julia",
   "name": "julia-1.1"
  },
  "language_info": {
   "file_extension": ".jl",
   "mimetype": "application/julia",
   "name": "julia",
   "version": "1.1.0"
  }
 },
 "nbformat": 4,
 "nbformat_minor": 2
}
