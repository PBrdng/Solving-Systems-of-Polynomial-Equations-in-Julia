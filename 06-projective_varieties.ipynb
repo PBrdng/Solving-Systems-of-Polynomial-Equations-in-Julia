{
 "cells": [
  {
   "cell_type": "markdown",
   "metadata": {},
   "source": [
    "# Solution sets in $\\mathbb{P}^n$"
   ]
  },
  {
   "cell_type": "markdown",
   "metadata": {},
   "source": [
    "In the previous examples we have always computed solutions $\\mathbb{C}^n$, also called affine space.\n",
    "\n",
    "On the other hand, for some polynomial systems it is more natural to consider their zero sets in [projective space](https://en.wikipedia.org/wiki/Projective_space) $\\mathbb{P}^n$. For instance, think of the parabola $y-x^2=0$. A line $ax+by=c$ is tangent to the parabola at $(x,y)\\in\\mathbb{C^2}$, if and only if \n",
    "\n",
    "$$ax+by=c \\quad \\text{ and } \\quad\\det\\begin{bmatrix} a & b \\\\ -2x & 1\\end{bmatrix}=0.$$\n",
    "\n",
    "Ususally, there is one point of intersection, but if $b=0$, then the last condition says that $a=0$. Consequently, if $b=0$ and $a\\neq 0$ then this system has no solution. Geometrically this means that the line and the parabola intersect  tagentially *asymptotically* at a point at infinity. \n",
    "\n",
    "Nevertheless, the same problem in $\\mathbb{P}^2$ **always** has a solution!\n",
    "\n",
    "Let us see this in action. We compute the solutions to the same equations, but homogenized."
   ]
  },
  {
   "cell_type": "code",
   "execution_count": null,
   "metadata": {},
   "outputs": [],
   "source": [
    "using HomotopyContinuation, LinearAlgebra\n",
    "@polyvar x y z\n",
    "@polyvar a b c\n",
    "f1 = a * x + b * y + c * z\n",
    "f2 = det([a b; -2x z])\n",
    "F = [f1; f2]"
   ]
  },
  {
   "cell_type": "markdown",
   "metadata": {},
   "source": [
    "Now, let us specify $a=1,\\, b=0, \\, c=i$ and solve the system "
   ]
  },
  {
   "cell_type": "code",
   "execution_count": null,
   "metadata": {},
   "outputs": [],
   "source": [
    "f = [subs(f, a => 1, b => 0, c => im) for f in F]\n",
    "R = solve(f)"
   ]
  },
  {
   "cell_type": "markdown",
   "metadata": {},
   "source": [
    "The entries of `R` aren't affine solutions, but projective solutions. Projective solutions have their own data structure `PVector`:"
   ]
  },
  {
   "cell_type": "code",
   "execution_count": null,
   "metadata": {},
   "outputs": [],
   "source": [
    "solutions(R)"
   ]
  },
  {
   "cell_type": "markdown",
   "metadata": {},
   "source": [
    "We can check if a solution is projective as follows."
   ]
  },
  {
   "cell_type": "code",
   "execution_count": null,
   "metadata": {},
   "outputs": [],
   "source": [
    "is_projective(R[1])"
   ]
  },
  {
   "cell_type": "markdown",
   "metadata": {},
   "source": [
    "## Computing solutions in an affine patch.\n",
    "\n",
    "Now, let us turn the problem around. Suppose we are given the homogeneous system `F`, but we want to get its affine solution where one of the variables is set to 1. This can be done as follows:"
   ]
  },
  {
   "cell_type": "code",
   "execution_count": null,
   "metadata": {},
   "outputs": [],
   "source": [
    "solve(f, homvar = z)"
   ]
  },
  {
   "cell_type": "markdown",
   "metadata": {},
   "source": [
    "There are zero solutions, because the solution from above is a solution at infinity. We can tell HomotopyContinuation.jl to return *all* paths (sometimes the path towards the solution at infinity fails)."
   ]
  },
  {
   "cell_type": "code",
   "execution_count": null,
   "metadata": {},
   "outputs": [],
   "source": [
    "solve(f, homvar = z, save_all_paths = true)"
   ]
  }
 ],
 "metadata": {
  "kernelspec": {
   "display_name": "Julia 1.1.0",
   "language": "julia",
   "name": "julia-1.1"
  },
  "language_info": {
   "file_extension": ".jl",
   "mimetype": "application/julia",
   "name": "julia",
   "version": "1.1.0"
  }
 },
 "nbformat": 4,
 "nbformat_minor": 2
}
