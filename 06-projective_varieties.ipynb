{
 "cells": [
  {
   "cell_type": "markdown",
   "metadata": {},
   "source": [
    "# Solution sets in $\\mathbb{P}^n$"
   ]
  },
  {
   "cell_type": "markdown",
   "metadata": {},
   "source": [
    "In the previous examples we have always computed solutions $\\mathbb{C}^n$, also called affine space.\n",
    "\n",
    "On the other hand, for some polynomial systems it is more natural to consider their zero sets in [projective space](https://en.wikipedia.org/wiki/Projective_space) $\\mathbb{P}^n$. For instance, think of the parabola $y-x^2=0$. A line $ax+by=c$ is tangent to the parabola at $(x,y)\\in\\mathbb{C^2}$, if and only if \n",
    "\n",
    "$$ax+by=c \\quad \\text{ and } \\quad\\det\\begin{bmatrix} a & b \\\\ -2x & 1\\end{bmatrix}=0.$$\n",
    "\n",
    "Ususally, there is one point of intersection, but if $b=0$, then the last condition says that $a=0$. Consequently, if $b=0$ and $a\\neq 0$ then this system has no solution. Geometrically this means that the line and the parabola intersect  tagentially *asymptotically* at a point at infinity. \n",
    "\n",
    "Nevertheless, the same problem in $\\mathbb{P}^2$ **always** has a solution!\n",
    "\n",
    "Let us see this in action. We compute the solutions to the same equations, but homogenized."
   ]
  },
  {
   "cell_type": "code",
   "execution_count": null,
   "metadata": {},
   "outputs": [],
   "source": [
    "using HomotopyContinuation, LinearAlgebra\n",
    "@polyvar x y z\n",
    "@polyvar a b c\n",
    "f1 = a * x + b * y + c * z\n",
    "f2 = det([a b; -2x z])\n",
    "F = [f1; f2]"
   ]
  },
  {
   "cell_type": "markdown",
   "metadata": {},
   "source": [
    "Now, let us specify $a=1,\\, b=0, \\, c=i$ and solve the system "
   ]
  },
  {
   "cell_type": "code",
   "execution_count": 73,
   "metadata": {},
   "outputs": [
    {
     "data": {
      "text/plain": [
       "Result with 1 solutions\n",
       "==================================\n",
       "• 1 non-singular solution (0 real)\n",
       "• 0 singular solutions (0 real)\n",
       "• 1 paths tracked\n",
       "• random seed: 248564\n"
      ]
     },
     "execution_count": 73,
     "metadata": {},
     "output_type": "execute_result"
    }
   ],
   "source": [
    "f = [subs(f, a => 1, b => 0, c => im) for f in F]\n",
    "R = solve(f)"
   ]
  },
  {
   "cell_type": "markdown",
   "metadata": {},
   "source": [
    "The entries of `R` aren't affine solutions, but projective solutions. Projective solutions have their own data structure `PVector`:"
   ]
  },
  {
   "cell_type": "code",
   "execution_count": 71,
   "metadata": {},
   "outputs": [
    {
     "data": {
      "text/plain": [
       "1-element Array{ProjectiveVectors.PVector{Complex{Float64},1},1}:\n",
       " PVector{Complex{Float64}, 1}:\n",
       " [0.0 + 0.0im, 0.9998701429502079 - 0.016115124471463523im, 1.7516230804060213e-46 - 3.503246160812043e-46im]"
      ]
     },
     "execution_count": 71,
     "metadata": {},
     "output_type": "execute_result"
    }
   ],
   "source": [
    "solutions(R)"
   ]
  },
  {
   "cell_type": "markdown",
   "metadata": {},
   "source": [
    "We can check if a solution is projective as follows."
   ]
  },
  {
   "cell_type": "code",
   "execution_count": 72,
   "metadata": {},
   "outputs": [
    {
     "data": {
      "text/plain": [
       "true"
      ]
     },
     "execution_count": 72,
     "metadata": {},
     "output_type": "execute_result"
    }
   ],
   "source": [
    "is_projective(R[1])"
   ]
  },
  {
   "cell_type": "markdown",
   "metadata": {},
   "source": [
    "## Computing solutions in an affine patch.\n",
    "\n",
    "Now, let us turn the problem around. Suppose we are given the homogeneous system `F`, but we want to get its affine solution where one of the variables is set to 1. This can be done as follows:"
   ]
  },
  {
   "cell_type": "code",
   "execution_count": 80,
   "metadata": {},
   "outputs": [
    {
     "data": {
      "text/plain": [
       "Result with 0 solutions\n",
       "==================================\n",
       "• 0 non-singular solutions (0 real)\n",
       "• 0 singular solutions (0 real)\n",
       "• 1 paths tracked\n",
       "• random seed: 777176\n"
      ]
     },
     "execution_count": 80,
     "metadata": {},
     "output_type": "execute_result"
    }
   ],
   "source": [
    "solve(f, homvar = x)"
   ]
  },
  {
   "cell_type": "markdown",
   "metadata": {},
   "source": [
    "There are zero solutions, because the projective zero from above is at infinity. We can tell HomotopyContinuation.jl to return *all* solutions at infinity (sometimes "
   ]
  },
  {
   "cell_type": "code",
   "execution_count": 89,
   "metadata": {},
   "outputs": [
    {
     "data": {
      "text/plain": [
       "Result with 0 solutions\n",
       "==================================\n",
       "• 0 non-singular solutions (0 real)\n",
       "• 0 singular solutions (0 real)\n",
       "• 1 solution at infinity\n",
       "• 1 paths tracked\n",
       "• random seed: 232185\n"
      ]
     },
     "execution_count": 89,
     "metadata": {},
     "output_type": "execute_result"
    }
   ],
   "source": [
    "solve(f, homvar = z, save_all_paths = true)"
   ]
  },
  {
   "cell_type": "code",
   "execution_count": null,
   "metadata": {},
   "outputs": [],
   "source": []
  }
 ],
 "metadata": {
  "kernelspec": {
   "display_name": "Julia 1.1.0",
   "language": "julia",
   "name": "julia-1.1"
  },
  "language_info": {
   "file_extension": ".jl",
   "mimetype": "application/julia",
   "name": "julia",
   "version": "1.1.0"
  }
 },
 "nbformat": 4,
 "nbformat_minor": 2
}
